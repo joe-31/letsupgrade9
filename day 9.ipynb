{
 "cells": [
  {
   "cell_type": "code",
   "execution_count": 2,
   "metadata": {},
   "outputs": [
    {
     "name": "stdout",
     "output_type": "stream",
     "text": [
      "Requirement already satisfied: pylint in c:\\programdata\\anaconda3\\lib\\site-packages (2.5.3)\n",
      "Requirement already satisfied: mccabe<0.7,>=0.6 in c:\\programdata\\anaconda3\\lib\\site-packages (from pylint) (0.6.1)\n",
      "Requirement already satisfied: astroid<=2.5,>=2.4.0 in c:\\programdata\\anaconda3\\lib\\site-packages (from pylint) (2.4.2)\n",
      "Requirement already satisfied: colorama; sys_platform == \"win32\" in c:\\programdata\\anaconda3\\lib\\site-packages (from pylint) (0.4.3)\n",
      "Requirement already satisfied: isort<5,>=4.2.5 in c:\\programdata\\anaconda3\\lib\\site-packages (from pylint) (4.3.21)\n",
      "Requirement already satisfied: toml>=0.7.1 in c:\\programdata\\anaconda3\\lib\\site-packages (from pylint) (0.10.1)\n",
      "Requirement already satisfied: six~=1.12 in c:\\programdata\\anaconda3\\lib\\site-packages (from astroid<=2.5,>=2.4.0->pylint) (1.15.0)\n",
      "Requirement already satisfied: wrapt~=1.11 in c:\\programdata\\anaconda3\\lib\\site-packages (from astroid<=2.5,>=2.4.0->pylint) (1.11.2)\n",
      "Requirement already satisfied: lazy-object-proxy==1.4.* in c:\\programdata\\anaconda3\\lib\\site-packages (from astroid<=2.5,>=2.4.0->pylint) (1.4.3)\n"
     ]
    }
   ],
   "source": [
    "! pip install pylint"
   ]
  },
  {
   "cell_type": "code",
   "execution_count": 2,
   "metadata": {},
   "outputs": [
    {
     "name": "stdout",
     "output_type": "stream",
     "text": [
      "Overwriting prime.py\n"
     ]
    }
   ],
   "source": [
    "%%writefile prime.py\n",
    "\n",
    "'''\n",
    "to check prime no\n",
    "'''\n",
    "\n",
    "def primeno(num):\n",
    "    '''\n",
    "    function to check prime no\n",
    "    '''\n",
    "    if num >= 1:\n",
    "        for i in range(2, num):\n",
    "            if (num % i) == 0:\n",
    "                final_result = \"Not Prime\"\n",
    "            else:\n",
    "                final_result = \"Prime\"\n",
    "    else:\n",
    "        final_result = \"Not Prime\"\n",
    "    return final_result"
   ]
  },
  {
   "cell_type": "code",
   "execution_count": 3,
   "metadata": {},
   "outputs": [
    {
     "name": "stdout",
     "output_type": "stream",
     "text": [
      "\n",
      "-------------------------------------------------------------------\n",
      "\n",
      "Your code has been rated at 10.00/10 (previous run: 6.25/10, +3.75)\n",
      "\n",
      "\n",
      "\n"
     ]
    }
   ],
   "source": [
    "! pylint prime.py"
   ]
  },
  {
   "cell_type": "code",
   "execution_count": 3,
   "metadata": {},
   "outputs": [
    {
     "name": "stdout",
     "output_type": "stream",
     "text": [
      "Overwriting primeUnitTest.py\n"
     ]
    }
   ],
   "source": [
    "%%writefile primeUnitTest.py\n",
    "\n",
    "import unittest\n",
    "import prime\n",
    "\n",
    "class testPrime(unittest.TestCase):\n",
    "    def testSinglePrime(self):\n",
    "        a = 3\n",
    "        result = prime.primeno(a)\n",
    "        self.assertEquals(result, \"Prime\")\n",
    "        \n",
    "    def testingDoublePrime(self):\n",
    "        b = 11 \n",
    "        result = prime.primeno(b)\n",
    "        self.assertEquals(result, \"Prime\")\n",
    "\n",
    "if __name__ == \"__main__\":\n",
    "    unittest.main()"
   ]
  },
  {
   "cell_type": "code",
   "execution_count": 4,
   "metadata": {},
   "outputs": [
    {
     "name": "stderr",
     "output_type": "stream",
     "text": [
      "primeUnitTest.py:9: DeprecationWarning: Please use assertEqual instead.\n",
      "  self.assertEquals(result, \"Prime\")\n",
      "..\n",
      "----------------------------------------------------------------------\n",
      "Ran 2 tests in 0.000s\n",
      "\n",
      "OK\n"
     ]
    }
   ],
   "source": [
    "! python primeUnitTest.py"
   ]
  },
  {
   "cell_type": "code",
   "execution_count": null,
   "metadata": {},
   "outputs": [],
   "source": []
  },
  {
   "cell_type": "code",
   "execution_count": null,
   "metadata": {},
   "outputs": [],
   "source": []
  }
 ],
 "metadata": {
  "kernelspec": {
   "display_name": "Python 3",
   "language": "python",
   "name": "python3"
  },
  "language_info": {
   "codemirror_mode": {
    "name": "ipython",
    "version": 3
   },
   "file_extension": ".py",
   "mimetype": "text/x-python",
   "name": "python",
   "nbconvert_exporter": "python",
   "pygments_lexer": "ipython3",
   "version": "3.8.3"
  }
 },
 "nbformat": 4,
 "nbformat_minor": 4
}
